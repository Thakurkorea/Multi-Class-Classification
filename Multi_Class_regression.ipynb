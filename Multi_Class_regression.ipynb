{
  "nbformat": 4,
  "nbformat_minor": 0,
  "metadata": {
    "colab": {
      "provenance": []
    },
    "kernelspec": {
      "name": "python3",
      "display_name": "Python 3"
    },
    "language_info": {
      "name": "python"
    }
  },
  "cells": [
    {
      "cell_type": "code",
      "source": [],
      "metadata": {
        "id": "HYWuSQz7vWkc"
      },
      "execution_count": 2,
      "outputs": []
    },
    {
      "cell_type": "markdown",
      "source": [
        "## ## Multi-Class Classification Task: Keras and Scikit-Learn ,random forest"
      ],
      "metadata": {
        "id": "gUA42l5xviTu"
      }
    },
    {
      "cell_type": "markdown",
      "source": [
        "In classification process ROC,AUC and TSS is used but not for regression "
      ],
      "metadata": {
        "id": "x-Q2QUM_9yTB"
      }
    },
    {
      "cell_type": "code",
      "source": [
        "from sklearn.datasets import load_iris\n",
        "from sklearn.ensemble import RandomForestClassifier\n",
        "from sklearn.model_selection import train_test_split\n",
        "from sklearn.metrics import accuracy_score\n",
        "from sklearn.metrics import roc_auc_score, roc_curve,confusion_matrix"
      ],
      "metadata": {
        "id": "GA1bN3Bo0-p3"
      },
      "execution_count": 84,
      "outputs": []
    },
    {
      "cell_type": "code",
      "source": [
        "# load the iris dataset\n",
        "iris = load_iris()\n",
        "\n",
        "# split the data into training and testing sets\n",
        "X_train, X_test, y_train, y_test = train_test_split(iris.data, iris.target, test_size=0.2, random_state=42)\n",
        "\n",
        "# create a random forest classification model\n",
        "rf = RandomForestClassifier(n_estimators=100, random_state=42)\n",
        "\n",
        "# train the model on the training data\n",
        "rf.fit(X_train, y_train)\n",
        "\n",
        "# make predictions on the testing data\n",
        "y_pred = rf.predict(X_test)\n",
        "\n",
        "# evaluate the model performance using accuracy score\n",
        "accuracy = accuracy_score(y_test, y_pred)\n",
        "print('Accuracy:', accuracy)"
      ],
      "metadata": {
        "colab": {
          "base_uri": "https://localhost:8080/"
        },
        "id": "mAmBYLPd1Gfv",
        "outputId": "016bb18f-6773-40f8-9d16-92f74b923964"
      },
      "execution_count": 100,
      "outputs": [
        {
          "output_type": "stream",
          "name": "stdout",
          "text": [
            "Accuracy: 1.0\n"
          ]
        }
      ]
    },
    {
      "cell_type": "code",
      "source": [
        "confusion_matrix(y_test, y_pred)"
      ],
      "metadata": {
        "colab": {
          "base_uri": "https://localhost:8080/"
        },
        "id": "CqCxgDm9_cRa",
        "outputId": "ad1def2b-cbee-4279-c2d7-7455086e9098"
      },
      "execution_count": 101,
      "outputs": [
        {
          "output_type": "execute_result",
          "data": {
            "text/plain": [
              "array([[10,  0,  0],\n",
              "       [ 0,  9,  0],\n",
              "       [ 0,  0, 11]])"
            ]
          },
          "metadata": {},
          "execution_count": 101
        }
      ]
    },
    {
      "cell_type": "markdown",
      "source": [
        "#Roc and TSS"
      ],
      "metadata": {
        "id": "Fu1ToskP7dqo"
      }
    },
    {
      "cell_type": "code",
      "source": [
        "roc_auc"
      ],
      "metadata": {
        "id": "QC2mHqLmDIYq"
      },
      "execution_count": null,
      "outputs": []
    },
    {
      "cell_type": "code",
      "source": [
        "# Compute the predicted probabilities for each class\n",
        "y_score = rf.predict_proba(X_test)\n",
        "\n",
        "# Compute ROC curve and ROC area for each class\n",
        "fpr = dict()\n",
        "tpr = dict()\n",
        "roc_auc = dict()\n",
        "for i in range(3):\n",
        "    fpr[i], tpr[i], _ = roc_curve(y_test == i, y_score[:, i])\n",
        "    roc_auc[i] = roc_auc_score(y_test == i, y_score[:, i])\n",
        "# Compute TSS and AUC\n",
        "#tss = np.mean([tpr[i]-fpr[i] for i in range(3)])\n",
        "auc = np.mean([roc_auc[i] for i in range(3)])\n",
        "\n",
        "# Print the results\n",
        "print(\"ROC AUC: \", auc)\n",
        "#print(\"TSS: \", tss)"
      ],
      "metadata": {
        "colab": {
          "base_uri": "https://localhost:8080/"
        },
        "id": "O8nwXFQ2BsHi",
        "outputId": "b724c727-7879-4a9b-f81c-6e01d3a030b3"
      },
      "execution_count": 125,
      "outputs": [
        {
          "output_type": "stream",
          "name": "stdout",
          "text": [
            "ROC AUC:  1.0\n"
          ]
        }
      ]
    },
    {
      "cell_type": "code",
      "source": [
        "# # Predict probabilities for test set for two classes\n",
        "# y_prob = rf.predict_proba(X_test)[:, 1]\n",
        "# #TSS\n",
        "\n",
        "# tn, fp, fn, tp = confusion_matrix(y_test, y_pred)\n",
        "\n",
        "# # Compute TSS\n",
        "# tss = tp / (tp + fn) - fp / (fp + tn)\n",
        "\n",
        "# # Compute AUC\n",
        "# auc = roc_auc_score(y_test, y_prob)\n",
        "# # Compute ROC curve\n",
        "# fpr, tpr, thresholds = roc_curve(y_test, y_prob)"
      ],
      "metadata": {
        "id": "bb-sx-by-TNR"
      },
      "execution_count": 103,
      "outputs": []
    },
    {
      "cell_type": "code",
      "source": [
        "from sklearn.ensemble import RandomForestRegressor\n",
        "from sklearn.model_selection import train_test_split\n",
        "from sklearn.metrics import mean_squared_error,r2_score\n",
        "import pandas as pd\n",
        "\n",
        "# load the data\n",
        "data = pd.read_csv('https://archive.ics.uci.edu/ml/machine-learning-databases/wine-quality/winequality-red.csv', delimiter=';')\n",
        "\n",
        "# split the data into training and testing sets\n",
        "X_train, X_test, y_train, y_test = train_test_split(data.drop('quality', axis=1), data['quality'], test_size=0.2, random_state=42)\n",
        "\n",
        "# create a random forest regression model\n",
        "rf = RandomForestRegressor(n_estimators=100, random_state=42)\n",
        "\n",
        "# train the model on the training data\n",
        "rf.fit(X_train, y_train)\n",
        "\n",
        "# make predictions on the testing data\n",
        "y_pred = rf.predict(X_test)\n",
        "\n",
        "# evaluate the model performance using mean squared error\n",
        "mse = mean_squared_error(y_test, y_pred)\n",
        "print('Mean Squared Error:', mse)\n",
        "# Compute R2\n",
        "r2 = r2_score(y_test, y_pred)\n",
        "print('R Squared Error:', r2)"
      ],
      "metadata": {
        "colab": {
          "base_uri": "https://localhost:8080/"
        },
        "id": "sVuH04sS2C1n",
        "outputId": "5606bd12-d364-4284-cfd8-60379289e699"
      },
      "execution_count": 77,
      "outputs": [
        {
          "output_type": "stream",
          "name": "stdout",
          "text": [
            "Mean Squared Error: 0.30123812499999997\n",
            "R Squared Error: 0.5390429623873638\n"
          ]
        }
      ]
    },
    {
      "cell_type": "code",
      "source": [
        "data.columns"
      ],
      "metadata": {
        "colab": {
          "base_uri": "https://localhost:8080/"
        },
        "id": "_Q-Uxq1B2pN5",
        "outputId": "14ba8c62-2bab-4013-b9b2-dbc8f0a1794e"
      },
      "execution_count": 52,
      "outputs": [
        {
          "output_type": "execute_result",
          "data": {
            "text/plain": [
              "Index(['fixed acidity', 'volatile acidity', 'citric acid', 'residual sugar',\n",
              "       'chlorides', 'free sulfur dioxide', 'total sulfur dioxide', 'density',\n",
              "       'pH', 'sulphates', 'alcohol', 'quality'],\n",
              "      dtype='object')"
            ]
          },
          "metadata": {},
          "execution_count": 52
        }
      ]
    },
    {
      "cell_type": "markdown",
      "source": [
        "## Random forest regression does not have coefficients like linear regression because it is an ensemble of decision trees rather than a linear model"
      ],
      "metadata": {
        "id": "vAyRj1fN4Y2Y"
      }
    },
    {
      "cell_type": "code",
      "source": [
        "# get the feature importances\n",
        "importances = rf.feature_importances_\n",
        "\n",
        "# print the importance scores for each feature\n",
        "for feature, importance in zip(data.columns, importances):\n",
        "    print(feature,\":\" ,round(importance*100,2))"
      ],
      "metadata": {
        "colab": {
          "base_uri": "https://localhost:8080/"
        },
        "id": "cGLuBiNR2J-P",
        "outputId": "57a69287-7678-463e-da51-b3c904c5b726"
      },
      "execution_count": 49,
      "outputs": [
        {
          "output_type": "stream",
          "name": "stdout",
          "text": [
            "fixed acidity : 5.32\n",
            "volatile acidity : 11.15\n",
            "citric acid : 5.08\n",
            "residual sugar : 5.79\n",
            "chlorides : 7.11\n",
            "free sulfur dioxide : 4.72\n",
            "total sulfur dioxide : 7.68\n",
            "density : 5.08\n",
            "pH : 6.14\n",
            "sulphates : 14.84\n",
            "alcohol : 27.09\n"
          ]
        }
      ]
    },
    {
      "cell_type": "markdown",
      "source": [
        "## Multi-input multi-output (MIMO) random forest regression"
      ],
      "metadata": {
        "id": "VjrYO9oE5HeY"
      }
    },
    {
      "cell_type": "code",
      "source": [
        "from sklearn.ensemble import RandomForestRegressor\n",
        "import numpy as np\n",
        "\n",
        "# generate some sample data\n",
        "X1 = np.random.rand(100, 3)\n",
        "X2 = np.random.rand(100, 2)\n",
        "X = np.hstack((X1, X2))\n",
        "y1 = np.random.rand(100, 1)\n",
        "y2 = np.random.rand(100, 1)\n",
        "y = np.hstack((y1, y2))\n",
        "\n",
        "# create a MIMO random forest regression model\n",
        "rf = RandomForestRegressor(n_estimators=100, random_state=42)\n",
        "\n",
        "# train the model on the data\n",
        "rf.fit(X, y)\n",
        "\n",
        "# predict on new data\n",
        "X_new1 = np.random.rand(10, 3)\n",
        "X_new2 = np.random.rand(10, 2)\n",
        "X_new = np.hstack((X_new1, X_new2))\n",
        "y_pred = rf.predict(X_new)\n",
        "\n",
        "print('Predicted output:', y_pred)\n"
      ],
      "metadata": {
        "id": "egN8-0Fq3skZ"
      },
      "execution_count": null,
      "outputs": []
    },
    {
      "cell_type": "code",
      "source": [
        "# calculate the feature importance for each output target\n",
        "importance1 = rf.feature_importances_[:3]\n",
        "importance2 = rf.feature_importances_[3:]"
      ],
      "metadata": {
        "id": "TBshzVyC6BvQ"
      },
      "execution_count": null,
      "outputs": []
    },
    {
      "cell_type": "code",
      "source": [
        "## plotting the features \n",
        "# plot the feature importance for each output target\n",
        "import matplotlib.pyplot as plt\n",
        "fig, ax = plt.subplots(1, 2, figsize=(10, 5))\n",
        "ax[0].bar(range(3), importance1)\n",
        "ax[0].set_xticks(range(3))\n",
        "ax[0].set_xticklabels(['X1_1', 'X1_2', 'X1_3'])\n",
        "ax[0].set_xlabel('Features')\n",
        "ax[0].set_ylabel('Importance')\n",
        "ax[0].set_title('Feature Importance for y1')\n",
        "ax[1].bar(range(2), importance2)\n",
        "ax[1].set_xticks(range(2))\n",
        "ax[1].set_xticklabels(['X2_1', 'X2_2'])\n",
        "ax[1].set_xlabel('Features')\n",
        "ax[1].set_ylabel('Importance')\n",
        "ax[1].set_title('Feature Importance for y2')\n",
        "plt.show()"
      ],
      "metadata": {
        "colab": {
          "base_uri": "https://localhost:8080/",
          "height": 487
        },
        "id": "uydAM7fs6OfQ",
        "outputId": "a38111db-6c2c-488a-f4fc-dafd2e9c089e"
      },
      "execution_count": 60,
      "outputs": [
        {
          "output_type": "display_data",
          "data": {
            "text/plain": [
              "<Figure size 1000x500 with 2 Axes>"
            ],
            "image/png": "[encoded data removed]"
          },
          "metadata": {}
        }
      ]
    }
  ]
}